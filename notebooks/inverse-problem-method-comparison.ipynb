{
 "cells": [
  {
   "cell_type": "markdown",
   "metadata": {},
   "source": [
    "# Comparison of Methods for Solving Inverse Problems"
   ]
  },
  {
   "cell_type": "markdown",
   "metadata": {},
   "source": [
    "The primary purpose of the notebook is to show 3 approaches to using diffusion models for solving inverse problems:\n",
    "\n",
    "- [Diffusion Posterior Sampling](https://arxiv.org/abs/2209.14687)\n",
    "- [Pseudoinverse-Guided Diffusion Models](https://openreview.net/forum?id=9_gsMA8MRKQ)\n",
    "- [Tweedie Moment Projected Diffusion Models](https://arxiv.org/abs/2310.06721)"
   ]
  }
 ],
 "metadata": {
  "kernelspec": {
   "display_name": ".venv",
   "language": "python",
   "name": "python3"
  },
  "language_info": {
   "codemirror_mode": {
    "name": "ipython",
    "version": 3
   },
   "file_extension": ".py",
   "mimetype": "text/x-python",
   "name": "python",
   "nbconvert_exporter": "python",
   "pygments_lexer": "ipython3",
   "version": "3.11.5"
  }
 },
 "nbformat": 4,
 "nbformat_minor": 2
}
