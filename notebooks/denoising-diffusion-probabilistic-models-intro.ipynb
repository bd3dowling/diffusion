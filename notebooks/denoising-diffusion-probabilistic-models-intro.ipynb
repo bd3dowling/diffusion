{
 "cells": [
  {
   "cell_type": "markdown",
   "metadata": {},
   "source": [
    "# Introduction to De-noising Diffusion Probabilistic Models"
   ]
  },
  {
   "cell_type": "code",
   "execution_count": null,
   "metadata": {},
   "outputs": [],
   "source": [
    "# import numpy as onp\n",
    "import jax.random as random\n",
    "\n",
    "rng = random.PRNGKey(2022)"
   ]
  },
  {
   "cell_type": "code",
   "execution_count": null,
   "metadata": {},
   "outputs": [],
   "source": [
    "def sample_sphere(n_points: int) -> Array:\n",
    "    alphas = jnp.linspace(0, 2 * jnp.pi * (1 - 1 / n_points), n_points)\n",
    "    xs = jnp.cos(alphas)\n",
    "    ys = jnp.sin(alphas)\n",
    "    mf = jnp.stack([xs, ys], axis=1)\n",
    "    return mf\n",
    "\n",
    "\n",
    "sphere = sample_sphere(100) * 0.5 + 0.7\n",
    "plt.scatter(sphere[:, 0], sphere[:, 1])"
   ]
  }
 ],
 "metadata": {
  "kernelspec": {
   "display_name": ".venv",
   "language": "python",
   "name": "python3"
  },
  "language_info": {
   "codemirror_mode": {
    "name": "ipython",
    "version": 3
   },
   "file_extension": ".py",
   "mimetype": "text/x-python",
   "name": "python",
   "nbconvert_exporter": "python",
   "pygments_lexer": "ipython3",
   "version": "3.11.5"
  }
 },
 "nbformat": 4,
 "nbformat_minor": 2
}
